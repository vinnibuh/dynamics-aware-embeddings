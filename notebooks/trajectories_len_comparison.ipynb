{
 "cells": [
  {
   "cell_type": "code",
   "execution_count": 1,
   "id": "0dfcbffa",
   "metadata": {},
   "outputs": [],
   "source": [
    "import torch\n",
    "import sys\n",
    "import numpy as np\n",
    "import pandas as pd\n",
    "import seaborn as sns\n",
    "import matplotlib.pyplot as plt\n",
    "from statsmodels.graphics.tsaplots import plot_pacf, plot_acf\n",
    "\n",
    "sys.path.append('..')\n",
    "from embedding.gym_dataset import AbstractActionsData\n",
    "from embedding.gym_dataset import GymData\n",
    "from embedding.gym_dataset import load_or_generate\n",
    "\n",
    "%load_ext autoreload\n",
    "%autoreload 2"
   ]
  },
  {
   "cell_type": "code",
   "execution_count": 2,
   "id": "62465436",
   "metadata": {},
   "outputs": [],
   "source": [
    "encoder_4 = torch.load('../models/encoder/dmc_hopper_hop/DynE-4/encoder.pt')\n",
    "encoder_6 = torch.load('../models/encoder/dmc_hopper_hop/DynE-6/encoder.pt')\n",
    "encoder_8 = torch.load('../models/encoder/dmc_hopper_hop/DynE-8/encoder.pt')\n",
    "\n",
    "data_4 = AbstractActionsData('dmc_hopper_hop', 4, encoder_4)\n",
    "data_6 = AbstractActionsData('dmc_hopper_hop', 6, encoder_6)\n",
    "data_8 = AbstractActionsData('dmc_hopper_hop', 8, encoder_8)"
   ]
  },
  {
   "cell_type": "code",
   "execution_count": 3,
   "id": "8cedfea6",
   "metadata": {},
   "outputs": [],
   "source": [
    "gym_data_4 = torch.load('../datasets/torch/dmc_hopper_hop_len4_n100000_qposFalse_qvelFalse_deltaTrue_whitenTrue_pixelsFalse.pt')\n",
    "data_4.mean, data_4.std = gym_data_4.mean, gym_data_4.std\n",
    "\n",
    "gym_data_6 = torch.load('../datasets/torch/dmc_hopper_hop_len6_n100000_qposFalse_qvelFalse_deltaTrue_whitenTrue_pixelsFalse.pt')\n",
    "data_6.mean, data_6.std = gym_data_6.mean, gym_data_6.std\n",
    "\n",
    "gym_data_8 = torch.load('../datasets/torch/dmc_hopper_hop_len8_n100000_qposFalse_qvelFalse_deltaTrue_whitenTrue_pixelsFalse.pt')\n",
    "data_8.mean, data_8.std = gym_data_8.mean, gym_data_8.std\n",
    "\n",
    "del gym_data_4\n",
    "del gym_data_6\n",
    "del gym_data_8"
   ]
  },
  {
   "cell_type": "code",
   "execution_count": 4,
   "id": "cff53d38",
   "metadata": {},
   "outputs": [],
   "source": [
    "data_4.load_from_directory('../datasets/dreamer/dreamer_finetuned/episodes')\n",
    "data_6.load_from_directory('../datasets/dreamer/dreamer_finetuned/episodes')\n",
    "data_8.load_from_directory('../datasets/dreamer/dreamer_finetuned/episodes')"
   ]
  },
  {
   "cell_type": "code",
   "execution_count": 15,
   "id": "2dc7abc5",
   "metadata": {},
   "outputs": [],
   "source": [
    "data = {}\n",
    "data[4] = data_4\n",
    "data[6] = data_6\n",
    "data[8] = data_8"
   ]
  },
  {
   "cell_type": "code",
   "execution_count": 11,
   "id": "cee434d8",
   "metadata": {},
   "outputs": [],
   "source": [
    "num_samples = len(data[4])\n",
    "mu_sample = {k: data[k].transform_episode(0) for k in data.keys()}\n",
    "\n",
    "episode_len = {k: mu_sample[k].size(0) for k in mu_i.keys()}\n",
    "mu_dim = {k: mu_sample[k].size(1) for k in mu_i.keys()}\n",
    "\n",
    "mu_i = {k: np.zeros([num_samples, episode_len_4, mu_size]) for k in data.keys()}\n",
    "for i in range(len(data_tuned)):\n",
    "    mu_tuned[i], _ = data_tuned.transform_episode(i)\n",
    "for i in range(len(data_raw)):\n",
    "    mu_raw[i], _ = data_raw.transform_episode(i)"
   ]
  },
  {
   "cell_type": "code",
   "execution_count": 8,
   "id": "453268c4",
   "metadata": {},
   "outputs": [
    {
     "ename": "NameError",
     "evalue": "name 'obs' is not defined",
     "output_type": "error",
     "traceback": [
      "\u001b[0;31m---------------------------------------------------------------------------\u001b[0m",
      "\u001b[0;31mNameError\u001b[0m                                 Traceback (most recent call last)",
      "\u001b[0;32m<ipython-input-8-3c6bdfe70d69>\u001b[0m in \u001b[0;36m<module>\u001b[0;34m\u001b[0m\n\u001b[0;32m----> 1\u001b[0;31m \u001b[0mobs\u001b[0m\u001b[0;34m\u001b[0m\u001b[0;34m\u001b[0m\u001b[0m\n\u001b[0m",
      "\u001b[0;31mNameError\u001b[0m: name 'obs' is not defined"
     ]
    }
   ],
   "source": []
  }
 ],
 "metadata": {
  "kernelspec": {
   "display_name": ".venv",
   "language": "python",
   "name": ".venv"
  },
  "language_info": {
   "codemirror_mode": {
    "name": "ipython",
    "version": 3
   },
   "file_extension": ".py",
   "mimetype": "text/x-python",
   "name": "python",
   "nbconvert_exporter": "python",
   "pygments_lexer": "ipython3",
   "version": "3.8.5"
  }
 },
 "nbformat": 4,
 "nbformat_minor": 5
}
